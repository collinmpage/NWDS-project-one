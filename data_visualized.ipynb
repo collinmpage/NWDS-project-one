{
 "cells": [
  {
   "cell_type": "markdown",
   "metadata": {},
   "source": [
    "# Cleaning & Reorganizing Data"
   ]
  },
  {
   "cell_type": "code",
   "execution_count": 28,
   "metadata": {},
   "outputs": [],
   "source": [
    "#Dependencies\n",
    "import pandas as pd\n",
    "import matplotlib.pyplot as plt\n",
    "import matplotlib.colors as mcolors\n",
    "import numpy as np\n",
    "import requests\n",
    "import gmaps\n",
    "import os\n",
    "\n",
    "# Import API key\n",
    "from api_keys import g_key"
   ]
  },
  {
   "cell_type": "code",
   "execution_count": 2,
   "metadata": {},
   "outputs": [],
   "source": [
    "#Read in csv file\n",
    "data_by_genres = pd.read_csv(\"archive/data_by_genres.csv\")"
   ]
  },
  {
   "cell_type": "code",
   "execution_count": 85,
   "metadata": {},
   "outputs": [],
   "source": [
    "#create global data sets by country \n",
    "australia = data_by_genres[data_by_genres.genres.str.contains('australia')]\n",
    "brazil = data_by_genres[data_by_genres.genres.str.contains('brazil')]\n",
    "british = data_by_genres[data_by_genres.genres.str.contains('british')]\n",
    "german = data_by_genres[data_by_genres.genres.str.contains('german')]\n",
    "french = data_by_genres[data_by_genres.genres.str.contains('french')]\n",
    "swedish = data_by_genres[data_by_genres.genres.str.contains('swedish')]\n",
    "spanish = data_by_genres[data_by_genres.genres.str.contains('spanish')]\n",
    "norwegian = data_by_genres[data_by_genres.genres.str.contains('norwegian')]\n",
    "scottish = data_by_genres[data_by_genres.genres.str.contains('scottish')]\n",
    "russian = data_by_genres[data_by_genres.genres.str.contains('russian')]\n",
    "mexican = data_by_genres[data_by_genres.genres.str.contains('mexican')]\n",
    "korean = data_by_genres[data_by_genres.genres.str.contains('korean')]\n",
    "australian = data_by_genres[data_by_genres.genres.str.contains('australian')]\n",
    "\n",
    "#create DF to hold all the countries in for later\n",
    "\n",
    "countries = pd.DataFrame()\n",
    "\n",
    "countries['Country'] = ['Australia', 'Brazil', 'UK', 'Germany', 'France', 'Sweden',\n",
    "             'Spain', 'Norway', 'Scotland','Russia','Mexico','Korea']"
   ]
  },
  {
   "cell_type": "code",
   "execution_count": 4,
   "metadata": {},
   "outputs": [],
   "source": [
    "#create the empty dataframe to utilize for the final set. the df will have the genre and danceability score\n",
    "best_genres = pd.DataFrame() "
   ]
  },
  {
   "cell_type": "code",
   "execution_count": 5,
   "metadata": {},
   "outputs": [
    {
     "name": "stdout",
     "output_type": "stream",
     "text": [
      "the most danceable genre was australian alternative pop with a score of 0.7764166666666666\n"
     ]
    },
    {
     "data": {
      "image/png": "[encoded data removed]",
      "text/plain": [
       "<Figure size 432x288 with 1 Axes>"
      ]
     },
     "metadata": {
      "needs_background": "light"
     },
     "output_type": "display_data"
    }
   ],
   "source": [
    "#sort highest to lowest for a clean plot and to get the max values\n",
    "australia = australia.sort_values(by= 'danceability', ascending = False)\n",
    "\n",
    "#get x and y values\n",
    "x = australia['genres']\n",
    "y = australia['danceability']\n",
    "\n",
    "#plot bar chart\n",
    "plt.bar(x,y)\n",
    "\n",
    "#find the genre and max danceability scores\n",
    "genre = australia.iat[0,0]\n",
    "score = australia.iat[0,2]\n",
    "\n",
    "#add those to the dataframe\n",
    "best_genres['Genre'] = [genre]'Australia', 'Brazil', 'UK', 'Germany', 'France', 'Sweden',\n",
    "             'Spain', 'Norway', 'Scotland','Russia','Mexico','Korea','Australia'\n",
    "best_genres['Danceability'] = [score]\n",
    "\n",
    "#print the most danceable genre and score \n",
    "print(f\"the most danceable genre was {genre} with a score of {score}\")"
   ]
  },
  {
   "cell_type": "code",
   "execution_count": 6,
   "metadata": {},
   "outputs": [
    {
     "name": "stdout",
     "output_type": "stream",
     "text": [
      "the most danceable genre was brazilian techno with a score of 0.888\n"
     ]
    },
    {
     "data": {
      "image/png": "[encoded data removed]",
      "text/plain": [
       "<Figure size 432x288 with 1 Axes>"
      ]
     },
     "metadata": {
      "needs_background": "light"
     },
     "output_type": "display_data"
    }
   ],
   "source": [
    "#sort highest to lowest for a clean plot and to get the max values\n",
    "brazil = brazil.sort_values(by= 'danceability', ascending = False)\n",
    "\n",
    "#get x and y values\n",
    "x = brazil['genres']\n",
    "y = brazil['danceability']\n",
    "\n",
    "#plot bar chart\n",
    "plt.bar(x,y)\n",
    "\n",
    "#find the genre and max danceability scores\n",
    "genre = brazil.iat[0,0]\n",
    "score = brazil.iat[0,2]\n",
    "\n",
    "#add those to the dataframe\n",
    "best_genres = best_genres.append({'Genre' : genre, 'Danceability' : score}, ignore_index = True)\n",
    "\n",
    "#print the most danceable genre and score \n",
    "print(f\"the most danceable genre was {genre} with a score of {score}\")"
   ]
  },
  {
   "cell_type": "code",
   "execution_count": 7,
   "metadata": {},
   "outputs": [
    {
     "data": {
      "text/html": [
       "<div>\n",
       "<style scoped>\n",
       "    .dataframe tbody tr th:only-of-type {\n",
       "        vertical-align: middle;\n",
       "    }\n",
       "\n",
       "    .dataframe tbody tr th {\n",
       "        vertical-align: top;\n",
       "    }\n",
       "\n",
       "    .dataframe thead th {\n",
       "        text-align: right;\n",
       "    }\n",
       "</style>\n",
       "<table border=\"1\" class=\"dataframe\">\n",
       "  <thead>\n",
       "    <tr style=\"text-align: right;\">\n",
       "      <th></th>\n",
       "      <th>Genre</th>\n",
       "      <th>Danceability</th>\n",
       "    </tr>\n",
       "  </thead>\n",
       "  <tbody>\n",
       "    <tr>\n",
       "      <th>0</th>\n",
       "      <td>australian alternative pop</td>\n",
       "      <td>0.776417</td>\n",
       "    </tr>\n",
       "    <tr>\n",
       "      <th>1</th>\n",
       "      <td>brazilian techno</td>\n",
       "      <td>0.888000</td>\n",
       "    </tr>\n",
       "  </tbody>\n",
       "</table>\n",
       "</div>"
      ],
      "text/plain": [
       "                        Genre  Danceability\n",
       "0  australian alternative pop      0.776417\n",
       "1            brazilian techno      0.888000"
      ]
     },
     "execution_count": 7,
     "metadata": {},
     "output_type": "execute_result"
    }
   ],
   "source": [
    "best_genres"
   ]
  },
  {
   "cell_type": "code",
   "execution_count": 8,
   "metadata": {},
   "outputs": [
    {
     "name": "stdout",
     "output_type": "stream",
     "text": [
      "the most danceable genre was british children's music with a score of 0.9059999999999999\n"
     ]
    },
    {
     "data": {
      "image/png": "[encoded data removed]",
      "text/plain": [
       "<Figure size 432x288 with 1 Axes>"
      ]
     },
     "metadata": {
      "needs_background": "light"
     },
     "output_type": "display_data"
    }
   ],
   "source": [
    "#sort highest to lowest for a clean plot and to get the max values\n",
    "british = british.sort_values(by= 'danceability', ascending = False)\n",
    "\n",
    "#get x and y values\n",
    "x = british['genres']\n",
    "y = british['danceability']\n",
    "\n",
    "#plot bar chart\n",
    "plt.bar(x,y)\n",
    "\n",
    "#find the genre and max danceability scores\n",
    "genre = british.iat[0,0]\n",
    "score = british.iat[0,2]\n",
    "\n",
    "#add those to the dataframe\n",
    "best_genres = best_genres.append({'Genre' : genre, 'Danceability' : score}, ignore_index = True)\n",
    "\n",
    "#print the most danceable genre and score \n",
    "print(f\"the most danceable genre was {genre} with a score of {score}\")"
   ]
  },
  {
   "cell_type": "code",
   "execution_count": 9,
   "metadata": {},
   "outputs": [
    {
     "name": "stdout",
     "output_type": "stream",
     "text": [
      "the most danceable genre was german underground rap with a score of 0.8590000000000001\n"
     ]
    },
    {
     "data": {
      "image/png": "[encoded data removed]",
      "text/plain": [
       "<Figure size 432x288 with 1 Axes>"
      ]
     },
     "metadata": {
      "needs_background": "light"
     },
     "output_type": "display_data"
    }
   ],
   "source": [
    "#sort highest to lowest for a clean plot and to get the max values\n",
    "german = german.sort_values(by= 'danceability', ascending = False)\n",
    "\n",
    "#get x and y values\n",
    "x = german['genres']\n",
    "y = german['danceability']\n",
    "\n",
    "#plot bar chart\n",
    "plt.bar(x,y)\n",
    "\n",
    "#find the genre and max danceability scores\n",
    "genre = german.iat[0,0]\n",
    "score = german.iat[0,2]\n",
    "\n",
    "#add those to the dataframe\n",
    "best_genres = best_genres.append({'Genre' : genre, 'Danceability' : score}, ignore_index = True)\n",
    "\n",
    "#print the most danceable genre and score \n",
    "print(f\"the most danceable genre was {genre} with a score of {score}\")"
   ]
  },
  {
   "cell_type": "code",
   "execution_count": 10,
   "metadata": {},
   "outputs": [
    {
     "name": "stdout",
     "output_type": "stream",
     "text": [
      "the most danceable genre was french tech house with a score of 0.78025\n"
     ]
    },
    {
     "data": {
      "image/png": "[encoded data removed]",
      "text/plain": [
       "<Figure size 432x288 with 1 Axes>"
      ]
     },
     "metadata": {
      "needs_background": "light"
     },
     "output_type": "display_data"
    }
   ],
   "source": [
    "#sort highest to lowest for a clean plot and to get the max values\n",
    "french = french.sort_values(by= 'danceability', ascending = False)\n",
    "\n",
    "#get x and y values\n",
    "x = french['genres']\n",
    "y = french['danceability']\n",
    "\n",
    "#plot bar chart\n",
    "plt.bar(x,y)\n",
    "\n",
    "#find the genre and max danceability scores\n",
    "genre = french.iat[0,0]\n",
    "score = french.iat[0,2]\n",
    "\n",
    "#add those to the dataframe\n",
    "best_genres = best_genres.append({'Genre' : genre, 'Danceability' : score}, ignore_index = True)\n",
    "\n",
    "#print the most danceable genre and score \n",
    "print(f\"the most danceable genre was {genre} with a score of {score}\")"
   ]
  },
  {
   "cell_type": "code",
   "execution_count": 11,
   "metadata": {},
   "outputs": [
    {
     "name": "stdout",
     "output_type": "stream",
     "text": [
      "the most danceable genre was swedish classical with a score of 0.8690000000000001\n"
     ]
    },
    {
     "data": {
      "image/png": "[encoded data removed]",
      "text/plain": [
       "<Figure size 432x288 with 1 Axes>"
      ]
     },
     "metadata": {
      "needs_background": "light"
     },
     "output_type": "display_data"
    }
   ],
   "source": [
    "#sort highest to lowest for a clean plot and to get the max values\n",
    "swedish = swedish.sort_values(by= 'danceability', ascending = False)\n",
    "\n",
    "#get x and y values\n",
    "x = swedish['genres']\n",
    "y = swedish['danceability']\n",
    "\n",
    "#plot bar chart\n",
    "plt.bar(x,y)\n",
    "\n",
    "#find the genre and max danceability scores\n",
    "genre = swedish.iat[0,0]\n",
    "score = swedish.iat[0,2]\n",
    "\n",
    "#add those to the dataframe\n",
    "best_genres = best_genres.append({'Genre' : genre, 'Danceability' : score}, ignore_index = True)\n",
    "\n",
    "#print the most danceable genre and score \n",
    "print(f\"the most danceable genre was {genre} with a score of {score}\")"
   ]
  },
  {
   "cell_type": "code",
   "execution_count": 12,
   "metadata": {},
   "outputs": [
    {
     "name": "stdout",
     "output_type": "stream",
     "text": [
      "the most danceable genre was spanish jazz with a score of 0.8140000000000001\n"
     ]
    },
    {
     "data": {
      "image/png": "[encoded data removed]",
      "text/plain": [
       "<Figure size 432x288 with 1 Axes>"
      ]
     },
     "metadata": {
      "needs_background": "light"
     },
     "output_type": "display_data"
    }
   ],
   "source": [
    "#sort highest to lowest for a clean plot and to get the max values\n",
    "spanish = spanish.sort_values(by= 'danceability', ascending = False)\n",
    "\n",
    "#get x and y values\n",
    "x = spanish['genres']\n",
    "y = spanish['danceability']\n",
    "\n",
    "#plot bar chart\n",
    "plt.bar(x,y)\n",
    "\n",
    "#find the genre and max danceability scores\n",
    "genre = spanish.iat[0,0]\n",
    "score = spanish.iat[0,2]\n",
    "\n",
    "#add those to the dataframe\n",
    "best_genres = best_genres.append({'Genre' : genre, 'Danceability' : score}, ignore_index = True)\n",
    "\n",
    "#print the most danceable genre and score \n",
    "print(f\"the most danceable genre was {genre} with a score of {score}\")"
   ]
  },
  {
   "cell_type": "code",
   "execution_count": 13,
   "metadata": {},
   "outputs": [
    {
     "name": "stdout",
     "output_type": "stream",
     "text": [
      "the most danceable genre was norwegian hip hop with a score of 0.7110000000000001\n"
     ]
    },
    {
     "data": {
      "image/png": "[encoded data removed]",
      "text/plain": [
       "<Figure size 432x288 with 1 Axes>"
      ]
     },
     "metadata": {
      "needs_background": "light"
     },
     "output_type": "display_data"
    }
   ],
   "source": [
    "#sort highest to lowest for a clean plot and to get the max values\n",
    "norwegian = norwegian.sort_values(by= 'danceability', ascending = False)\n",
    "\n",
    "#get x and y values\n",
    "x = norwegian['genres']\n",
    "y = norwegian['danceability']\n",
    "\n",
    "#plot bar chart\n",
    "plt.bar(x,y)\n",
    "\n",
    "#find the genre and max danceability scores\n",
    "genre = norwegian.iat[0,0]\n",
    "score = norwegian.iat[0,2]\n",
    "\n",
    "#add those to the dataframe\n",
    "best_genres = best_genres.append({'Genre' : genre, 'Danceability' : score}, ignore_index = True)\n",
    "\n",
    "#print the most danceable genre and score \n",
    "print(f\"the most danceable genre was {genre} with a score of {score}\")"
   ]
  },
  {
   "cell_type": "code",
   "execution_count": 14,
   "metadata": {},
   "outputs": [
    {
     "name": "stdout",
     "output_type": "stream",
     "text": [
      "the most danceable genre was scottish electronic with a score of 0.6184937500000001\n"
     ]
    },
    {
     "data": {
      "image/png": "[encoded data removed]",
      "text/plain": [
       "<Figure size 432x288 with 1 Axes>"
      ]
     },
     "metadata": {
      "needs_background": "light"
     },
     "output_type": "display_data"
    }
   ],
   "source": [
    "#sort highest to lowest for a clean plot and to get the max values\n",
    "scottish = scottish.sort_values(by= 'danceability', ascending = False)\n",
    "\n",
    "#get x and y values\n",
    "x = scottish['genres']\n",
    "y = scottish['danceability']\n",
    "\n",
    "#plot bar chart\n",
    "plt.bar(x,y)\n",
    "\n",
    "#find the genre and max danceability scores\n",
    "genre = scottish.iat[0,0]\n",
    "score = scottish.iat[0,2]\n",
    "\n",
    "#add those to the dataframe\n",
    "best_genres = best_genres.append({'Genre' : genre, 'Danceability' : score}, ignore_index = True)\n",
    "\n",
    "#print the most danceable genre and score \n",
    "print(f\"the most danceable genre was {genre} with a score of {score}\")"
   ]
  },
  {
   "cell_type": "code",
   "execution_count": 15,
   "metadata": {},
   "outputs": [
    {
     "name": "stdout",
     "output_type": "stream",
     "text": [
      "the most danceable genre was russian dance with a score of 0.6990000000000001\n"
     ]
    },
    {
     "data": {
      "image/png": "[encoded data removed]",
      "text/plain": [
       "<Figure size 432x288 with 1 Axes>"
      ]
     },
     "metadata": {
      "needs_background": "light"
     },
     "output_type": "display_data"
    }
   ],
   "source": [
    "#sort highest to lowest for a clean plot and to get the max values\n",
    "russian = russian.sort_values(by= 'danceability', ascending = False)\n",
    "\n",
    "#get x and y values\n",
    "x = russian['genres']\n",
    "y = russian['danceability']\n",
    "\n",
    "#plot bar chart\n",
    "plt.bar(x,y)\n",
    "\n",
    "#find the genre and max danceability scores\n",
    "genre = russian.iat[0,0]\n",
    "score = russian.iat[0,2]\n",
    "\n",
    "#add those to the dataframe\n",
    "best_genres = best_genres.append({'Genre' : genre, 'Danceability' : score}, ignore_index = True)\n",
    "\n",
    "#print the most danceable genre and score \n",
    "print(f\"the most danceable genre was {genre} with a score of {score}\")"
   ]
  },
  {
   "cell_type": "code",
   "execution_count": 16,
   "metadata": {},
   "outputs": [
    {
     "name": "stdout",
     "output_type": "stream",
     "text": [
      "the most danceable genre was mexican tech house with a score of 0.8009999999999999\n"
     ]
    },
    {
     "data": {
      "image/png": "[encoded data removed]",
      "text/plain": [
       "<Figure size 432x288 with 1 Axes>"
      ]
     },
     "metadata": {
      "needs_background": "light"
     },
     "output_type": "display_data"
    }
   ],
   "source": [
    "#sort highest to lowest for a clean plot and to get the max values\n",
    "mexican = mexican.sort_values(by= 'danceability', ascending = False)\n",
    "\n",
    "#get x and y values\n",
    "x = mexican['genres']\n",
    "y = mexican['danceability']\n",
    "\n",
    "#plot bar chart\n",
    "plt.bar(x,y)\n",
    "\n",
    "#find the genre and max danceability scores\n",
    "genre = mexican.iat[0,0]\n",
    "score = mexican.iat[0,2]\n",
    "\n",
    "#add those to the dataframe\n",
    "best_genres = best_genres.append({'Genre' : genre, 'Danceability' : score}, ignore_index = True)\n",
    "\n",
    "#print the most danceable genre and score \n",
    "print(f\"the most danceable genre was {genre} with a score of {score}\")"
   ]
  },
  {
   "cell_type": "code",
   "execution_count": 17,
   "metadata": {},
   "outputs": [
    {
     "name": "stdout",
     "output_type": "stream",
     "text": [
      "the most danceable genre was korean trap with a score of 0.7346666666666666\n"
     ]
    },
    {
     "data": {
      "image/png": "[encoded data removed]",
      "text/plain": [
       "<Figure size 432x288 with 1 Axes>"
      ]
     },
     "metadata": {
      "needs_background": "light"
     },
     "output_type": "display_data"
    }
   ],
   "source": [
    "#sort highest to lowest for a clean plot and to get the max values\n",
    "korean = korean.sort_values(by= 'danceability', ascending = False)\n",
    "\n",
    "#get x and y values\n",
    "x = korean['genres']\n",
    "y = korean['danceability']\n",
    "\n",
    "#plot bar chart\n",
    "plt.bar(x,y)\n",
    "\n",
    "#find the genre and max danceability scores\n",
    "genre = korean.iat[0,0]\n",
    "score = korean.iat[0,2]\n",
    "\n",
    "#add those to the dataframe\n",
    "best_genres = best_genres.append({'Genre' : genre, 'Danceability' : score}, ignore_index = True)\n",
    "\n",
    "#print the most danceable genre and score \n",
    "print(f\"the most danceable genre was {genre} with a score of {score}\")"
   ]
  },
  {
   "cell_type": "code",
   "execution_count": 164,
   "metadata": {},
   "outputs": [
    {
     "data": {
      "text/html": [
       "<div>\n",
       "<style scoped>\n",
       "    .dataframe tbody tr th:only-of-type {\n",
       "        vertical-align: middle;\n",
       "    }\n",
       "\n",
       "    .dataframe tbody tr th {\n",
       "        vertical-align: top;\n",
       "    }\n",
       "\n",
       "    .dataframe thead th {\n",
       "        text-align: right;\n",
       "    }\n",
       "</style>\n",
       "<table border=\"1\" class=\"dataframe\">\n",
       "  <thead>\n",
       "    <tr style=\"text-align: right;\">\n",
       "      <th></th>\n",
       "      <th>Genre</th>\n",
       "      <th>Danceability</th>\n",
       "    </tr>\n",
       "  </thead>\n",
       "  <tbody>\n",
       "    <tr>\n",
       "      <th>2</th>\n",
       "      <td>british children's music</td>\n",
       "      <td>0.906000</td>\n",
       "    </tr>\n",
       "    <tr>\n",
       "      <th>1</th>\n",
       "      <td>brazilian techno</td>\n",
       "      <td>0.888000</td>\n",
       "    </tr>\n",
       "    <tr>\n",
       "      <th>5</th>\n",
       "      <td>swedish classical</td>\n",
       "      <td>0.869000</td>\n",
       "    </tr>\n",
       "    <tr>\n",
       "      <th>3</th>\n",
       "      <td>german underground rap</td>\n",
       "      <td>0.859000</td>\n",
       "    </tr>\n",
       "    <tr>\n",
       "      <th>6</th>\n",
       "      <td>spanish jazz</td>\n",
       "      <td>0.814000</td>\n",
       "    </tr>\n",
       "    <tr>\n",
       "      <th>10</th>\n",
       "      <td>mexican tech house</td>\n",
       "      <td>0.801000</td>\n",
       "    </tr>\n",
       "    <tr>\n",
       "      <th>4</th>\n",
       "      <td>french tech house</td>\n",
       "      <td>0.780250</td>\n",
       "    </tr>\n",
       "    <tr>\n",
       "      <th>0</th>\n",
       "      <td>australian alternative pop</td>\n",
       "      <td>0.776417</td>\n",
       "    </tr>\n",
       "    <tr>\n",
       "      <th>11</th>\n",
       "      <td>korean trap</td>\n",
       "      <td>0.734667</td>\n",
       "    </tr>\n",
       "    <tr>\n",
       "      <th>7</th>\n",
       "      <td>norwegian hip hop</td>\n",
       "      <td>0.711000</td>\n",
       "    </tr>\n",
       "    <tr>\n",
       "      <th>9</th>\n",
       "      <td>russian dance</td>\n",
       "      <td>0.699000</td>\n",
       "    </tr>\n",
       "    <tr>\n",
       "      <th>8</th>\n",
       "      <td>scottish electronic</td>\n",
       "      <td>0.618494</td>\n",
       "    </tr>\n",
       "  </tbody>\n",
       "</table>\n",
       "</div>"
      ],
      "text/plain": [
       "                         Genre  Danceability\n",
       "2     british children's music      0.906000\n",
       "1             brazilian techno      0.888000\n",
       "5            swedish classical      0.869000\n",
       "3       german underground rap      0.859000\n",
       "6                 spanish jazz      0.814000\n",
       "10          mexican tech house      0.801000\n",
       "4            french tech house      0.780250\n",
       "0   australian alternative pop      0.776417\n",
       "11                 korean trap      0.734667\n",
       "7            norwegian hip hop      0.711000\n",
       "9                russian dance      0.699000\n",
       "8          scottish electronic      0.618494"
      ]
     },
     "execution_count": 164,
     "metadata": {},
     "output_type": "execute_result"
    },
    {
     "data": {
      "image/png": "[encoded data removed]",
      "text/plain": [
       "<Figure size 1080x720 with 1 Axes>"
      ]
     },
     "metadata": {
      "needs_background": "light"
     },
     "output_type": "display_data"
    }
   ],
   "source": [
    "best_genres = best_genres.sort_values(by= 'Danceability', ascending = False)\n",
    "\n",
    "x = best_genres['Genre']\n",
    "y = best_genres['Danceability']\n",
    "\n",
    "fig1,ax1 = plt.subplots(figsize = (15,10))\n",
    "\n",
    "#x_axis = np.arange(len(best_genres['Genre']) - 0.5)\n",
    "#tick_locations = [value for value in x_axis]\n",
    "plt.bar(x,y)\n",
    "plt.xticks(rotation = 75)\n",
    "\n",
    "best_genres"
   ]
  },
  {
   "cell_type": "code",
   "execution_count": 27,
   "metadata": {},
   "outputs": [],
   "source": [
    "#I want to add in some notes on pop music here\n",
    "#pop = data_by_genres[data_by_genres.genres.str.contains('pop')]\n",
    "\n",
    "#pop = pop.sort_values(by= 'danceability', ascending = False)\n",
    "\n",
    "#x = pop['genres']\n",
    "#y = pop['danceability']\n",
    "\n",
    "#plt.bar(x,y)\n",
    "\n",
    "#plt.xticks(rotation = 45)\n",
    "\n",
    "#plt.show()                                                       "
   ]
  },
  {
   "cell_type": "code",
   "execution_count": 125,
   "metadata": {
    "scrolled": true
   },
   "outputs": [
    {
     "data": {
      "text/html": [
       "<div>\n",
       "<style scoped>\n",
       "    .dataframe tbody tr th:only-of-type {\n",
       "        vertical-align: middle;\n",
       "    }\n",
       "\n",
       "    .dataframe tbody tr th {\n",
       "        vertical-align: top;\n",
       "    }\n",
       "\n",
       "    .dataframe thead th {\n",
       "        text-align: right;\n",
       "    }\n",
       "</style>\n",
       "<table border=\"1\" class=\"dataframe\">\n",
       "  <thead>\n",
       "    <tr style=\"text-align: right;\">\n",
       "      <th></th>\n",
       "      <th>Country</th>\n",
       "      <th>Capital City</th>\n",
       "    </tr>\n",
       "  </thead>\n",
       "  <tbody>\n",
       "    <tr>\n",
       "      <th>0</th>\n",
       "      <td>Aruba</td>\n",
       "      <td>Oranjestad</td>\n",
       "    </tr>\n",
       "    <tr>\n",
       "      <th>1</th>\n",
       "      <td>Ascension Island</td>\n",
       "      <td>Georgetown</td>\n",
       "    </tr>\n",
       "    <tr>\n",
       "      <th>2</th>\n",
       "      <td>Australia</td>\n",
       "      <td>Canberra</td>\n",
       "    </tr>\n",
       "    <tr>\n",
       "      <th>3</th>\n",
       "      <td>Austria</td>\n",
       "      <td>Vienna</td>\n",
       "    </tr>\n",
       "    <tr>\n",
       "      <th>4</th>\n",
       "      <td>Azerbaijan</td>\n",
       "      <td>Baku</td>\n",
       "    </tr>\n",
       "  </tbody>\n",
       "</table>\n",
       "</div>"
      ],
      "text/plain": [
       "            Country Capital City\n",
       "0             Aruba   Oranjestad\n",
       "1  Ascension Island   Georgetown\n",
       "2         Australia     Canberra\n",
       "3           Austria       Vienna\n",
       "4        Azerbaijan         Baku"
      ]
     },
     "execution_count": 125,
     "metadata": {},
     "output_type": "execute_result"
    }
   ],
   "source": [
    "capitals = pd.read_csv(\"archive/capital_cities.csv\")\n",
    "\n",
    "capitals.head()"
   ]
  },
  {
   "cell_type": "code",
   "execution_count": 131,
   "metadata": {},
   "outputs": [],
   "source": [
    "capital_data = pd.DataFrame()\n",
    "\n",
    "capital_data['Country'] = ['Australia', 'Brazil', 'United Kingdom', 'Germany', 'France', 'Sweden',\n",
    "             'Spain', 'Norway', 'Scotland','Russia','Mexico','South Korea']"
   ]
  },
  {
   "cell_type": "code",
   "execution_count": 136,
   "metadata": {
    "scrolled": false
   },
   "outputs": [
    {
     "data": {
      "text/html": [
       "<div>\n",
       "<style scoped>\n",
       "    .dataframe tbody tr th:only-of-type {\n",
       "        vertical-align: middle;\n",
       "    }\n",
       "\n",
       "    .dataframe tbody tr th {\n",
       "        vertical-align: top;\n",
       "    }\n",
       "\n",
       "    .dataframe thead th {\n",
       "        text-align: right;\n",
       "    }\n",
       "</style>\n",
       "<table border=\"1\" class=\"dataframe\">\n",
       "  <thead>\n",
       "    <tr style=\"text-align: right;\">\n",
       "      <th></th>\n",
       "      <th>Country</th>\n",
       "      <th>Capital City</th>\n",
       "    </tr>\n",
       "  </thead>\n",
       "  <tbody>\n",
       "    <tr>\n",
       "      <th>0</th>\n",
       "      <td>Australia</td>\n",
       "      <td>Canberra</td>\n",
       "    </tr>\n",
       "    <tr>\n",
       "      <th>1</th>\n",
       "      <td>Brazil</td>\n",
       "      <td>Brasília</td>\n",
       "    </tr>\n",
       "    <tr>\n",
       "      <th>2</th>\n",
       "      <td>United Kingdom</td>\n",
       "      <td>London</td>\n",
       "    </tr>\n",
       "    <tr>\n",
       "      <th>3</th>\n",
       "      <td>Germany</td>\n",
       "      <td>Berlin</td>\n",
       "    </tr>\n",
       "    <tr>\n",
       "      <th>4</th>\n",
       "      <td>France</td>\n",
       "      <td>Paris</td>\n",
       "    </tr>\n",
       "    <tr>\n",
       "      <th>5</th>\n",
       "      <td>Sweden</td>\n",
       "      <td>Stockholm</td>\n",
       "    </tr>\n",
       "    <tr>\n",
       "      <th>6</th>\n",
       "      <td>Spain</td>\n",
       "      <td>Madrid</td>\n",
       "    </tr>\n",
       "    <tr>\n",
       "      <th>7</th>\n",
       "      <td>Norway</td>\n",
       "      <td>Oslo</td>\n",
       "    </tr>\n",
       "    <tr>\n",
       "      <th>8</th>\n",
       "      <td>Scotland</td>\n",
       "      <td>Edinburgh</td>\n",
       "    </tr>\n",
       "    <tr>\n",
       "      <th>9</th>\n",
       "      <td>Russia</td>\n",
       "      <td>Moscow</td>\n",
       "    </tr>\n",
       "    <tr>\n",
       "      <th>10</th>\n",
       "      <td>Mexico</td>\n",
       "      <td>Mexico City</td>\n",
       "    </tr>\n",
       "    <tr>\n",
       "      <th>11</th>\n",
       "      <td>South Korea</td>\n",
       "      <td>Seoul</td>\n",
       "    </tr>\n",
       "  </tbody>\n",
       "</table>\n",
       "</div>"
      ],
      "text/plain": [
       "           Country Capital City\n",
       "0        Australia     Canberra\n",
       "1           Brazil     Brasília\n",
       "2   United Kingdom       London\n",
       "3          Germany       Berlin\n",
       "4           France        Paris\n",
       "5           Sweden    Stockholm\n",
       "6            Spain       Madrid\n",
       "7           Norway         Oslo\n",
       "8         Scotland    Edinburgh\n",
       "9           Russia       Moscow\n",
       "10          Mexico  Mexico City\n",
       "11     South Korea        Seoul"
      ]
     },
     "execution_count": 136,
     "metadata": {},
     "output_type": "execute_result"
    }
   ],
   "source": [
    "merged_data = pd.merge(capital_data, capitals, how = 'left', on = \"Country\")\n",
    "\n",
    "merged_data.iloc[8, 1] = \"Edinburgh\"\n",
    "\n",
    "merged_data"
   ]
  }
 ],
 "metadata": {
  "kernelspec": {
   "display_name": "Python 3",
   "language": "python",
   "name": "python3"
  },
  "language_info": {
   "codemirror_mode": {
    "name": "ipython",
    "version": 3
   },
   "file_extension": ".py",
   "mimetype": "text/x-python",
   "name": "python",
   "nbconvert_exporter": "python",
   "pygments_lexer": "ipython3",
   "version": "3.8.5"
  }
 },
 "nbformat": 4,
 "nbformat_minor": 4
}
