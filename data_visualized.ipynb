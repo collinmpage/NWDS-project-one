{
 "cells": [
  {
   "cell_type": "markdown",
   "metadata": {},
   "source": [
    "# Cleaning & Reorganizing Data"
   ]
  },
  {
   "cell_type": "code",
   "execution_count": 1,
   "metadata": {},
   "outputs": [],
   "source": [
    "#Dependencies\n",
    "import pandas as pd\n",
    "import matplotlib.pyplot as plt\n",
    "import matplotlib.colors as mcolors\n",
    "import numpy as np\n",
    "import requests\n",
    "import gmaps\n",
    "import os"
   ]
  },
  {
   "cell_type": "code",
   "execution_count": 2,
   "metadata": {},
   "outputs": [],
   "source": [
    "#Read in csv file\n",
    "data_by_genres = pd.read_csv(\"archive/data_by_genres.csv\")"
   ]
  },
  {
   "cell_type": "code",
   "execution_count": 3,
   "metadata": {},
   "outputs": [],
   "source": [
    "#create global data sets by country \n",
    "australia = data_by_genres[data_by_genres.genres.str.contains('australia')]\n",
    "brazil = data_by_genres[data_by_genres.genres.str.contains('brazil')]\n",
    "british = data_by_genres[data_by_genres.genres.str.contains('british')]\n",
    "german = data_by_genres[data_by_genres.genres.str.contains('german')]\n",
    "french = data_by_genres[data_by_genres.genres.str.contains('french')]\n",
    "swedish = data_by_genres[data_by_genres.genres.str.contains('swedish')]\n",
    "spanish = data_by_genres[data_by_genres.genres.str.contains('spanish')]\n",
    "norwegian = data_by_genres[data_by_genres.genres.str.contains('norwegian')]\n",
    "scottish = data_by_genres[data_by_genres.genres.str.contains('scottish')]\n",
    "russian = data_by_genres[data_by_genres.genres.str.contains('russian')]\n",
    "mexican = data_by_genres[data_by_genres.genres.str.contains('mexican')]\n",
    "korean = data_by_genres[data_by_genres.genres.str.contains('korean')]\n",
    "australian = data_by_genres[data_by_genres.genres.str.contains('australian')]"
   ]
  },
  {
   "cell_type": "code",
   "execution_count": 4,
   "metadata": {},
   "outputs": [],
   "source": [
    "#create the empty dataframe to utilize for the final set. the df will have the genre and danceability score\n",
    "best_genres = pd.DataFrame() "
   ]
  },
  {
   "cell_type": "code",
   "execution_count": 5,
   "metadata": {},
   "outputs": [
    {
     "name": "stdout",
     "output_type": "stream",
     "text": [
      "the most danceable genre was australian alternative pop with a score of 0.7764166666666666\n"
     ]
    },
    {
     "data": {
      "image/png": "[encoded data removed]",
      "text/plain": [
       "<Figure size 432x288 with 1 Axes>"
      ]
     },
     "metadata": {
      "needs_background": "light"
     },
     "output_type": "display_data"
    }
   ],
   "source": [
    "#sort highest to lowest for a clean plot and to get the max values\n",
    "australia = australia.sort_values(by= 'danceability', ascending = False)\n",
    "\n",
    "#get x and y values\n",
    "x = australia['genres']\n",
    "y = australia['danceability']\n",
    "\n",
    "#plot bar chart\n",
    "plt.bar(x,y)\n",
    "\n",
    "#find the genre and max danceability scores\n",
    "genre = australia.iat[0,0]\n",
    "score = australia.iat[0,2]\n",
    "\n",
    "#add those to the dataframe\n",
    "best_genres['Genre'] = [genre]\n",
    "best_genres['Danceability'] = [score]\n",
    "\n",
    "#print the most danceable genre and score \n",
    "print(f\"the most danceable genre was {genre} with a score of {score}\")"
   ]
  },
  {
   "cell_type": "code",
   "execution_count": 6,
   "metadata": {},
   "outputs": [
    {
     "name": "stdout",
     "output_type": "stream",
     "text": [
      "the most danceable genre was brazilian techno with a score of 0.888\n"
     ]
    },
    {
     "data": {
      "image/png": "[encoded data removed]",
      "text/plain": [
       "<Figure size 432x288 with 1 Axes>"
      ]
     },
     "metadata": {
      "needs_background": "light"
     },
     "output_type": "display_data"
    }
   ],
   "source": [
    "#sort highest to lowest for a clean plot and to get the max values\n",
    "brazil = brazil.sort_values(by= 'danceability', ascending = False)\n",
    "\n",
    "#get x and y values\n",
    "x = brazil['genres']\n",
    "y = brazil['danceability']\n",
    "\n",
    "#plot bar chart\n",
    "plt.bar(x,y)\n",
    "\n",
    "#find the genre and max danceability scores\n",
    "genre = brazil.iat[0,0]\n",
    "score = brazil.iat[0,2]\n",
    "\n",
    "#add those to the dataframe\n",
    "best_genres = best_genres.append({'Genre' : genre, 'Danceability' : score}, ignore_index = True)\n",
    "\n",
    "#print the most danceable genre and score \n",
    "print(f\"the most danceable genre was {genre} with a score of {score}\")"
   ]
  },
  {
   "cell_type": "code",
   "execution_count": 7,
   "metadata": {},
   "outputs": [
    {
     "data": {
      "text/html": [
       "<div>\n",
       "<style scoped>\n",
       "    .dataframe tbody tr th:only-of-type {\n",
       "        vertical-align: middle;\n",
       "    }\n",
       "\n",
       "    .dataframe tbody tr th {\n",
       "        vertical-align: top;\n",
       "    }\n",
       "\n",
       "    .dataframe thead th {\n",
       "        text-align: right;\n",
       "    }\n",
       "</style>\n",
       "<table border=\"1\" class=\"dataframe\">\n",
       "  <thead>\n",
       "    <tr style=\"text-align: right;\">\n",
       "      <th></th>\n",
       "      <th>Genre</th>\n",
       "      <th>Danceability</th>\n",
       "    </tr>\n",
       "  </thead>\n",
       "  <tbody>\n",
       "    <tr>\n",
       "      <th>0</th>\n",
       "      <td>australian alternative pop</td>\n",
       "      <td>0.776417</td>\n",
       "    </tr>\n",
       "    <tr>\n",
       "      <th>1</th>\n",
       "      <td>brazilian techno</td>\n",
       "      <td>0.888000</td>\n",
       "    </tr>\n",
       "  </tbody>\n",
       "</table>\n",
       "</div>"
      ],
      "text/plain": [
       "                        Genre  Danceability\n",
       "0  australian alternative pop      0.776417\n",
       "1            brazilian techno      0.888000"
      ]
     },
     "execution_count": 7,
     "metadata": {},
     "output_type": "execute_result"
    }
   ],
   "source": [
    "best_genres"
   ]
  },
  {
   "cell_type": "code",
   "execution_count": 8,
   "metadata": {},
   "outputs": [
    {
     "name": "stdout",
     "output_type": "stream",
     "text": [
      "the most danceable genre was british children's music with a score of 0.9059999999999999\n"
     ]
    },
    {
     "data": {
      "image/png": "[encoded data removed]",
      "text/plain": [
       "<Figure size 432x288 with 1 Axes>"
      ]
     },
     "metadata": {
      "needs_background": "light"
     },
     "output_type": "display_data"
    }
   ],
   "source": [
    "#sort highest to lowest for a clean plot and to get the max values\n",
    "british = british.sort_values(by= 'danceability', ascending = False)\n",
    "\n",
    "#get x and y values\n",
    "x = british['genres']\n",
    "y = british['danceability']\n",
    "\n",
    "#plot bar chart\n",
    "plt.bar(x,y)\n",
    "\n",
    "#find the genre and max danceability scores\n",
    "genre = british.iat[0,0]\n",
    "score = british.iat[0,2]\n",
    "\n",
    "#add those to the dataframe\n",
    "best_genres = best_genres.append({'Genre' : genre, 'Danceability' : score}, ignore_index = True)\n",
    "\n",
    "#print the most danceable genre and score \n",
    "print(f\"the most danceable genre was {genre} with a score of {score}\")"
   ]
  },
  {
   "cell_type": "code",
   "execution_count": 9,
   "metadata": {},
   "outputs": [
    {
     "name": "stdout",
     "output_type": "stream",
     "text": [
      "the most danceable genre was german underground rap with a score of 0.8590000000000001\n"
     ]
    },
    {
     "data": {
      "image/png": "[encoded data removed]",
      "text/plain": [
       "<Figure size 432x288 with 1 Axes>"
      ]
     },
     "metadata": {
      "needs_background": "light"
     },
     "output_type": "display_data"
    }
   ],
   "source": [
    "#sort highest to lowest for a clean plot and to get the max values\n",
    "german = german.sort_values(by= 'danceability', ascending = False)\n",
    "\n",
    "#get x and y values\n",
    "x = german['genres']\n",
    "y = german['danceability']\n",
    "\n",
    "#plot bar chart\n",
    "plt.bar(x,y)\n",
    "\n",
    "#find the genre and max danceability scores\n",
    "genre = german.iat[0,0]\n",
    "score = german.iat[0,2]\n",
    "\n",
    "#add those to the dataframe\n",
    "best_genres = best_genres.append({'Genre' : genre, 'Danceability' : score}, ignore_index = True)\n",
    "\n",
    "#print the most danceable genre and score \n",
    "print(f\"the most danceable genre was {genre} with a score of {score}\")"
   ]
  },
  {
   "cell_type": "code",
   "execution_count": 10,
   "metadata": {},
   "outputs": [
    {
     "name": "stdout",
     "output_type": "stream",
     "text": [
      "the most danceable genre was french tech house with a score of 0.78025\n"
     ]
    },
    {
     "data": {
      "image/png": "[encoded data removed]",
      "text/plain": [
       "<Figure size 432x288 with 1 Axes>"
      ]
     },
     "metadata": {
      "needs_background": "light"
     },
     "output_type": "display_data"
    }
   ],
   "source": [
    "#sort highest to lowest for a clean plot and to get the max values\n",
    "french = french.sort_values(by= 'danceability', ascending = False)\n",
    "\n",
    "#get x and y values\n",
    "x = french['genres']\n",
    "y = french['danceability']\n",
    "\n",
    "#plot bar chart\n",
    "plt.bar(x,y)\n",
    "\n",
    "#find the genre and max danceability scores\n",
    "genre = french.iat[0,0]\n",
    "score = french.iat[0,2]\n",
    "\n",
    "#add those to the dataframe\n",
    "best_genres = best_genres.append({'Genre' : genre, 'Danceability' : score}, ignore_index = True)\n",
    "\n",
    "#print the most danceable genre and score \n",
    "print(f\"the most danceable genre was {genre} with a score of {score}\")"
   ]
  },
  {
   "cell_type": "code",
   "execution_count": 11,
   "metadata": {},
   "outputs": [
    {
     "name": "stdout",
     "output_type": "stream",
     "text": [
      "the most danceable genre was swedish classical with a score of 0.8690000000000001\n"
     ]
    },
    {
     "data": {
      "image/png": "[encoded data removed]",
      "text/plain": [
       "<Figure size 432x288 with 1 Axes>"
      ]
     },
     "metadata": {
      "needs_background": "light"
     },
     "output_type": "display_data"
    }
   ],
   "source": [
    "#sort highest to lowest for a clean plot and to get the max values\n",
    "swedish = swedish.sort_values(by= 'danceability', ascending = False)\n",
    "\n",
    "#get x and y values\n",
    "x = swedish['genres']\n",
    "y = swedish['danceability']\n",
    "\n",
    "#plot bar chart\n",
    "plt.bar(x,y)\n",
    "\n",
    "#find the genre and max danceability scores\n",
    "genre = swedish.iat[0,0]\n",
    "score = swedish.iat[0,2]\n",
    "\n",
    "#add those to the dataframe\n",
    "best_genres = best_genres.append({'Genre' : genre, 'Danceability' : score}, ignore_index = True)\n",
    "\n",
    "#print the most danceable genre and score \n",
    "print(f\"the most danceable genre was {genre} with a score of {score}\")"
   ]
  },
  {
   "cell_type": "code",
   "execution_count": 12,
   "metadata": {},
   "outputs": [
    {
     "name": "stdout",
     "output_type": "stream",
     "text": [
      "the most danceable genre was spanish jazz with a score of 0.8140000000000001\n"
     ]
    },
    {
     "data": {
      "image/png": "[encoded data removed]",
      "text/plain": [
       "<Figure size 432x288 with 1 Axes>"
      ]
     },
     "metadata": {
      "needs_background": "light"
     },
     "output_type": "display_data"
    }
   ],
   "source": [
    "#sort highest to lowest for a clean plot and to get the max values\n",
    "spanish = spanish.sort_values(by= 'danceability', ascending = False)\n",
    "\n",
    "#get x and y values\n",
    "x = spanish['genres']\n",
    "y = spanish['danceability']\n",
    "\n",
    "#plot bar chart\n",
    "plt.bar(x,y)\n",
    "\n",
    "#find the genre and max danceability scores\n",
    "genre = spanish.iat[0,0]\n",
    "score = spanish.iat[0,2]\n",
    "\n",
    "#add those to the dataframe\n",
    "best_genres = best_genres.append({'Genre' : genre, 'Danceability' : score}, ignore_index = True)\n",
    "\n",
    "#print the most danceable genre and score \n",
    "print(f\"the most danceable genre was {genre} with a score of {score}\")"
   ]
  },
  {
   "cell_type": "code",
   "execution_count": 13,
   "metadata": {},
   "outputs": [
    {
     "name": "stdout",
     "output_type": "stream",
     "text": [
      "the most danceable genre was norwegian hip hop with a score of 0.7110000000000001\n"
     ]
    },
    {
     "data": {
      "image/png": "[encoded data removed]",
      "text/plain": [
       "<Figure size 432x288 with 1 Axes>"
      ]
     },
     "metadata": {
      "needs_background": "light"
     },
     "output_type": "display_data"
    }
   ],
   "source": [
    "#sort highest to lowest for a clean plot and to get the max values\n",
    "norwegian = norwegian.sort_values(by= 'danceability', ascending = False)\n",
    "\n",
    "#get x and y values\n",
    "x = norwegian['genres']\n",
    "y = norwegian['danceability']\n",
    "\n",
    "#plot bar chart\n",
    "plt.bar(x,y)\n",
    "\n",
    "#find the genre and max danceability scores\n",
    "genre = norwegian.iat[0,0]\n",
    "score = norwegian.iat[0,2]\n",
    "\n",
    "#add those to the dataframe\n",
    "best_genres = best_genres.append({'Genre' : genre, 'Danceability' : score}, ignore_index = True)\n",
    "\n",
    "#print the most danceable genre and score \n",
    "print(f\"the most danceable genre was {genre} with a score of {score}\")"
   ]
  },
  {
   "cell_type": "code",
   "execution_count": 14,
   "metadata": {},
   "outputs": [
    {
     "name": "stdout",
     "output_type": "stream",
     "text": [
      "the most danceable genre was scottish electronic with a score of 0.6184937500000001\n"
     ]
    },
    {
     "data": {
      "image/png": "[encoded data removed]",
      "text/plain": [
       "<Figure size 432x288 with 1 Axes>"
      ]
     },
     "metadata": {
      "needs_background": "light"
     },
     "output_type": "display_data"
    }
   ],
   "source": [
    "#sort highest to lowest for a clean plot and to get the max values\n",
    "scottish = scottish.sort_values(by= 'danceability', ascending = False)\n",
    "\n",
    "#get x and y values\n",
    "x = scottish['genres']\n",
    "y = scottish['danceability']\n",
    "\n",
    "#plot bar chart\n",
    "plt.bar(x,y)\n",
    "\n",
    "#find the genre and max danceability scores\n",
    "genre = scottish.iat[0,0]\n",
    "score = scottish.iat[0,2]\n",
    "\n",
    "#add those to the dataframe\n",
    "best_genres = best_genres.append({'Genre' : genre, 'Danceability' : score}, ignore_index = True)\n",
    "\n",
    "#print the most danceable genre and score \n",
    "print(f\"the most danceable genre was {genre} with a score of {score}\")"
   ]
  },
  {
   "cell_type": "code",
   "execution_count": 15,
   "metadata": {},
   "outputs": [
    {
     "name": "stdout",
     "output_type": "stream",
     "text": [
      "the most danceable genre was russian dance with a score of 0.6990000000000001\n"
     ]
    },
    {
     "data": {
      "image/png": "[encoded data removed]",
      "text/plain": [
       "<Figure size 432x288 with 1 Axes>"
      ]
     },
     "metadata": {
      "needs_background": "light"
     },
     "output_type": "display_data"
    }
   ],
   "source": [
    "#sort highest to lowest for a clean plot and to get the max values\n",
    "russian = russian.sort_values(by= 'danceability', ascending = False)\n",
    "\n",
    "#get x and y values\n",
    "x = russian['genres']\n",
    "y = russian['danceability']\n",
    "\n",
    "#plot bar chart\n",
    "plt.bar(x,y)\n",
    "\n",
    "#find the genre and max danceability scores\n",
    "genre = russian.iat[0,0]\n",
    "score = russian.iat[0,2]\n",
    "\n",
    "#add those to the dataframe\n",
    "best_genres = best_genres.append({'Genre' : genre, 'Danceability' : score}, ignore_index = True)\n",
    "\n",
    "#print the most danceable genre and score \n",
    "print(f\"the most danceable genre was {genre} with a score of {score}\")"
   ]
  },
  {
   "cell_type": "code",
   "execution_count": 16,
   "metadata": {},
   "outputs": [
    {
     "name": "stdout",
     "output_type": "stream",
     "text": [
      "the most danceable genre was mexican tech house with a score of 0.8009999999999999\n"
     ]
    },
    {
     "data": {
      "image/png": "[encoded data removed]",
      "text/plain": [
       "<Figure size 432x288 with 1 Axes>"
      ]
     },
     "metadata": {
      "needs_background": "light"
     },
     "output_type": "display_data"
    }
   ],
   "source": [
    "#sort highest to lowest for a clean plot and to get the max values\n",
    "mexican = mexican.sort_values(by= 'danceability', ascending = False)\n",
    "\n",
    "#get x and y values\n",
    "x = mexican['genres']\n",
    "y = mexican['danceability']\n",
    "\n",
    "#plot bar chart\n",
    "plt.bar(x,y)\n",
    "\n",
    "#find the genre and max danceability scores\n",
    "genre = mexican.iat[0,0]\n",
    "score = mexican.iat[0,2]\n",
    "\n",
    "#add those to the dataframe\n",
    "best_genres = best_genres.append({'Genre' : genre, 'Danceability' : score}, ignore_index = True)\n",
    "\n",
    "#print the most danceable genre and score \n",
    "print(f\"the most danceable genre was {genre} with a score of {score}\")"
   ]
  },
  {
   "cell_type": "code",
   "execution_count": 17,
   "metadata": {},
   "outputs": [
    {
     "name": "stdout",
     "output_type": "stream",
     "text": [
      "the most danceable genre was korean trap with a score of 0.7346666666666666\n"
     ]
    },
    {
     "data": {
      "image/png": "[encoded data removed]",
      "text/plain": [
       "<Figure size 432x288 with 1 Axes>"
      ]
     },
     "metadata": {
      "needs_background": "light"
     },
     "output_type": "display_data"
    }
   ],
   "source": [
    "#sort highest to lowest for a clean plot and to get the max values\n",
    "korean = korean.sort_values(by= 'danceability', ascending = False)\n",
    "\n",
    "#get x and y values\n",
    "x = korean['genres']\n",
    "y = korean['danceability']\n",
    "\n",
    "#plot bar chart\n",
    "plt.bar(x,y)\n",
    "\n",
    "#find the genre and max danceability scores\n",
    "genre = korean.iat[0,0]\n",
    "score = korean.iat[0,2]\n",
    "\n",
    "#add those to the dataframe\n",
    "best_genres = best_genres.append({'Genre' : genre, 'Danceability' : score}, ignore_index = True)\n",
    "\n",
    "#print the most danceable genre and score \n",
    "print(f\"the most danceable genre was {genre} with a score of {score}\")"
   ]
  },
  {
   "cell_type": "code",
   "execution_count": 18,
   "metadata": {},
   "outputs": [
    {
     "data": {
      "text/html": [
       "<div>\n",
       "<style scoped>\n",
       "    .dataframe tbody tr th:only-of-type {\n",
       "        vertical-align: middle;\n",
       "    }\n",
       "\n",
       "    .dataframe tbody tr th {\n",
       "        vertical-align: top;\n",
       "    }\n",
       "\n",
       "    .dataframe thead th {\n",
       "        text-align: right;\n",
       "    }\n",
       "</style>\n",
       "<table border=\"1\" class=\"dataframe\">\n",
       "  <thead>\n",
       "    <tr style=\"text-align: right;\">\n",
       "      <th></th>\n",
       "      <th>Genre</th>\n",
       "      <th>Danceability</th>\n",
       "    </tr>\n",
       "  </thead>\n",
       "  <tbody>\n",
       "    <tr>\n",
       "      <th>2</th>\n",
       "      <td>british children's music</td>\n",
       "      <td>0.906000</td>\n",
       "    </tr>\n",
       "    <tr>\n",
       "      <th>1</th>\n",
       "      <td>brazilian techno</td>\n",
       "      <td>0.888000</td>\n",
       "    </tr>\n",
       "    <tr>\n",
       "      <th>5</th>\n",
       "      <td>swedish classical</td>\n",
       "      <td>0.869000</td>\n",
       "    </tr>\n",
       "    <tr>\n",
       "      <th>3</th>\n",
       "      <td>german underground rap</td>\n",
       "      <td>0.859000</td>\n",
       "    </tr>\n",
       "    <tr>\n",
       "      <th>6</th>\n",
       "      <td>spanish jazz</td>\n",
       "      <td>0.814000</td>\n",
       "    </tr>\n",
       "    <tr>\n",
       "      <th>10</th>\n",
       "      <td>mexican tech house</td>\n",
       "      <td>0.801000</td>\n",
       "    </tr>\n",
       "    <tr>\n",
       "      <th>4</th>\n",
       "      <td>french tech house</td>\n",
       "      <td>0.780250</td>\n",
       "    </tr>\n",
       "    <tr>\n",
       "      <th>0</th>\n",
       "      <td>australian alternative pop</td>\n",
       "      <td>0.776417</td>\n",
       "    </tr>\n",
       "    <tr>\n",
       "      <th>11</th>\n",
       "      <td>korean trap</td>\n",
       "      <td>0.734667</td>\n",
       "    </tr>\n",
       "    <tr>\n",
       "      <th>7</th>\n",
       "      <td>norwegian hip hop</td>\n",
       "      <td>0.711000</td>\n",
       "    </tr>\n",
       "    <tr>\n",
       "      <th>9</th>\n",
       "      <td>russian dance</td>\n",
       "      <td>0.699000</td>\n",
       "    </tr>\n",
       "    <tr>\n",
       "      <th>8</th>\n",
       "      <td>scottish electronic</td>\n",
       "      <td>0.618494</td>\n",
       "    </tr>\n",
       "  </tbody>\n",
       "</table>\n",
       "</div>"
      ],
      "text/plain": [
       "                         Genre  Danceability\n",
       "2     british children's music      0.906000\n",
       "1             brazilian techno      0.888000\n",
       "5            swedish classical      0.869000\n",
       "3       german underground rap      0.859000\n",
       "6                 spanish jazz      0.814000\n",
       "10          mexican tech house      0.801000\n",
       "4            french tech house      0.780250\n",
       "0   australian alternative pop      0.776417\n",
       "11                 korean trap      0.734667\n",
       "7            norwegian hip hop      0.711000\n",
       "9                russian dance      0.699000\n",
       "8          scottish electronic      0.618494"
      ]
     },
     "execution_count": 18,
     "metadata": {},
     "output_type": "execute_result"
    },
    {
     "data": {
      "image/png": "[encoded data removed]",
      "text/plain": [
       "<Figure size 432x288 with 1 Axes>"
      ]
     },
     "metadata": {
      "needs_background": "light"
     },
     "output_type": "display_data"
    }
   ],
   "source": [
    "best_genres = best_genres.sort_values(by= 'Danceability', ascending = False)\n",
    "\n",
    "x = best_genres['Genre']\n",
    "y = best_genres['Danceability']\n",
    "\n",
    "plt.bar(x,y)\n",
    "plt.xticks(rotation = 45)\n",
    "\n",
    "best_genres"
   ]
  },
  {
   "cell_type": "code",
   "execution_count": 26,
   "metadata": {},
   "outputs": [
    {
     "data": {
      "image/png": "[encoded data removed]",
      "text/plain": [
       "<Figure size 432x288 with 1 Axes>"
      ]
     },
     "metadata": {
      "needs_background": "light"
     },
     "output_type": "display_data"
    },
    {
     "data": {
      "text/html": [
       "<div>\n",
       "<style scoped>\n",
       "    .dataframe tbody tr th:only-of-type {\n",
       "        vertical-align: middle;\n",
       "    }\n",
       "\n",
       "    .dataframe tbody tr th {\n",
       "        vertical-align: top;\n",
       "    }\n",
       "\n",
       "    .dataframe thead th {\n",
       "        text-align: right;\n",
       "    }\n",
       "</style>\n",
       "<table border=\"1\" class=\"dataframe\">\n",
       "  <thead>\n",
       "    <tr style=\"text-align: right;\">\n",
       "      <th></th>\n",
       "      <th>genres</th>\n",
       "      <th>acousticness</th>\n",
       "      <th>danceability</th>\n",
       "      <th>duration_ms</th>\n",
       "      <th>energy</th>\n",
       "      <th>instrumentalness</th>\n",
       "      <th>liveness</th>\n",
       "      <th>loudness</th>\n",
       "      <th>speechiness</th>\n",
       "      <th>tempo</th>\n",
       "      <th>valence</th>\n",
       "      <th>popularity</th>\n",
       "      <th>key</th>\n",
       "      <th>mode</th>\n",
       "    </tr>\n",
       "  </thead>\n",
       "  <tbody>\n",
       "    <tr>\n",
       "      <th>1281</th>\n",
       "      <td>ghanaian pop</td>\n",
       "      <td>0.194000</td>\n",
       "      <td>0.940000</td>\n",
       "      <td>172400.000000</td>\n",
       "      <td>0.518000</td>\n",
       "      <td>0.000000</td>\n",
       "      <td>0.287000</td>\n",
       "      <td>-8.484000</td>\n",
       "      <td>0.373000</td>\n",
       "      <td>107.075000</td>\n",
       "      <td>0.932000</td>\n",
       "      <td>1.000000</td>\n",
       "      <td>5</td>\n",
       "      <td>0</td>\n",
       "    </tr>\n",
       "    <tr>\n",
       "      <th>214</th>\n",
       "      <td>bahamian pop</td>\n",
       "      <td>0.064033</td>\n",
       "      <td>0.815778</td>\n",
       "      <td>199844.555556</td>\n",
       "      <td>0.875889</td>\n",
       "      <td>0.000756</td>\n",
       "      <td>0.168400</td>\n",
       "      <td>-4.581333</td>\n",
       "      <td>0.085378</td>\n",
       "      <td>123.273333</td>\n",
       "      <td>0.843333</td>\n",
       "      <td>49.666667</td>\n",
       "      <td>11</td>\n",
       "      <td>0</td>\n",
       "    </tr>\n",
       "    <tr>\n",
       "      <th>1906</th>\n",
       "      <td>melodipop</td>\n",
       "      <td>0.000309</td>\n",
       "      <td>0.811000</td>\n",
       "      <td>427270.000000</td>\n",
       "      <td>0.750000</td>\n",
       "      <td>0.924000</td>\n",
       "      <td>0.055300</td>\n",
       "      <td>-10.339000</td>\n",
       "      <td>0.060200</td>\n",
       "      <td>127.995000</td>\n",
       "      <td>0.813000</td>\n",
       "      <td>0.000000</td>\n",
       "      <td>6</td>\n",
       "      <td>1</td>\n",
       "    </tr>\n",
       "    <tr>\n",
       "      <th>3033</th>\n",
       "      <td>tunisian pop</td>\n",
       "      <td>0.176000</td>\n",
       "      <td>0.807000</td>\n",
       "      <td>281443.000000</td>\n",
       "      <td>0.639000</td>\n",
       "      <td>0.000100</td>\n",
       "      <td>0.059000</td>\n",
       "      <td>-11.604000</td>\n",
       "      <td>0.041600</td>\n",
       "      <td>103.956000</td>\n",
       "      <td>0.692000</td>\n",
       "      <td>49.000000</td>\n",
       "      <td>0</td>\n",
       "      <td>1</td>\n",
       "    </tr>\n",
       "    <tr>\n",
       "      <th>660</th>\n",
       "      <td>classic tunisian pop</td>\n",
       "      <td>0.176000</td>\n",
       "      <td>0.807000</td>\n",
       "      <td>281443.000000</td>\n",
       "      <td>0.639000</td>\n",
       "      <td>0.000100</td>\n",
       "      <td>0.059000</td>\n",
       "      <td>-11.604000</td>\n",
       "      <td>0.041600</td>\n",
       "      <td>103.956000</td>\n",
       "      <td>0.692000</td>\n",
       "      <td>49.000000</td>\n",
       "      <td>0</td>\n",
       "      <td>1</td>\n",
       "    </tr>\n",
       "    <tr>\n",
       "      <th>...</th>\n",
       "      <td>...</td>\n",
       "      <td>...</td>\n",
       "      <td>...</td>\n",
       "      <td>...</td>\n",
       "      <td>...</td>\n",
       "      <td>...</td>\n",
       "      <td>...</td>\n",
       "      <td>...</td>\n",
       "      <td>...</td>\n",
       "      <td>...</td>\n",
       "      <td>...</td>\n",
       "      <td>...</td>\n",
       "      <td>...</td>\n",
       "      <td>...</td>\n",
       "    </tr>\n",
       "    <tr>\n",
       "      <th>2256</th>\n",
       "      <td>operatic pop</td>\n",
       "      <td>0.768093</td>\n",
       "      <td>0.322291</td>\n",
       "      <td>241315.597898</td>\n",
       "      <td>0.328649</td>\n",
       "      <td>0.169507</td>\n",
       "      <td>0.168955</td>\n",
       "      <td>-13.102229</td>\n",
       "      <td>0.047088</td>\n",
       "      <td>114.299797</td>\n",
       "      <td>0.243284</td>\n",
       "      <td>34.534913</td>\n",
       "      <td>7</td>\n",
       "      <td>1</td>\n",
       "    </tr>\n",
       "    <tr>\n",
       "      <th>617</th>\n",
       "      <td>classic czech pop</td>\n",
       "      <td>0.943044</td>\n",
       "      <td>0.296044</td>\n",
       "      <td>172446.422222</td>\n",
       "      <td>0.262822</td>\n",
       "      <td>0.368123</td>\n",
       "      <td>0.228924</td>\n",
       "      <td>-13.854022</td>\n",
       "      <td>0.036404</td>\n",
       "      <td>76.829444</td>\n",
       "      <td>0.395578</td>\n",
       "      <td>5.844444</td>\n",
       "      <td>8</td>\n",
       "      <td>1</td>\n",
       "    </tr>\n",
       "    <tr>\n",
       "      <th>638</th>\n",
       "      <td>classic latvian pop</td>\n",
       "      <td>0.795000</td>\n",
       "      <td>0.267000</td>\n",
       "      <td>182860.000000</td>\n",
       "      <td>0.380000</td>\n",
       "      <td>0.000072</td>\n",
       "      <td>0.097800</td>\n",
       "      <td>-10.589000</td>\n",
       "      <td>0.032850</td>\n",
       "      <td>96.304500</td>\n",
       "      <td>0.206900</td>\n",
       "      <td>0.000000</td>\n",
       "      <td>3</td>\n",
       "      <td>1</td>\n",
       "    </tr>\n",
       "    <tr>\n",
       "      <th>1807</th>\n",
       "      <td>latvian pop</td>\n",
       "      <td>0.795000</td>\n",
       "      <td>0.267000</td>\n",
       "      <td>182860.000000</td>\n",
       "      <td>0.380000</td>\n",
       "      <td>0.000072</td>\n",
       "      <td>0.097800</td>\n",
       "      <td>-10.589000</td>\n",
       "      <td>0.032850</td>\n",
       "      <td>96.304500</td>\n",
       "      <td>0.206900</td>\n",
       "      <td>0.000000</td>\n",
       "      <td>3</td>\n",
       "      <td>1</td>\n",
       "    </tr>\n",
       "    <tr>\n",
       "      <th>76</th>\n",
       "      <td>ambient pop</td>\n",
       "      <td>0.580819</td>\n",
       "      <td>0.263024</td>\n",
       "      <td>259229.190476</td>\n",
       "      <td>0.285986</td>\n",
       "      <td>0.744651</td>\n",
       "      <td>0.175052</td>\n",
       "      <td>-15.917786</td>\n",
       "      <td>0.033362</td>\n",
       "      <td>99.395643</td>\n",
       "      <td>0.173474</td>\n",
       "      <td>46.833333</td>\n",
       "      <td>4</td>\n",
       "      <td>1</td>\n",
       "    </tr>\n",
       "  </tbody>\n",
       "</table>\n",
       "<p>319 rows × 14 columns</p>\n",
       "</div>"
      ],
      "text/plain": [
       "                    genres  acousticness  danceability    duration_ms  \\\n",
       "1281          ghanaian pop      0.194000      0.940000  172400.000000   \n",
       "214           bahamian pop      0.064033      0.815778  199844.555556   \n",
       "1906             melodipop      0.000309      0.811000  427270.000000   \n",
       "3033          tunisian pop      0.176000      0.807000  281443.000000   \n",
       "660   classic tunisian pop      0.176000      0.807000  281443.000000   \n",
       "...                    ...           ...           ...            ...   \n",
       "2256          operatic pop      0.768093      0.322291  241315.597898   \n",
       "617      classic czech pop      0.943044      0.296044  172446.422222   \n",
       "638    classic latvian pop      0.795000      0.267000  182860.000000   \n",
       "1807           latvian pop      0.795000      0.267000  182860.000000   \n",
       "76             ambient pop      0.580819      0.263024  259229.190476   \n",
       "\n",
       "        energy  instrumentalness  liveness   loudness  speechiness  \\\n",
       "1281  0.518000          0.000000  0.287000  -8.484000     0.373000   \n",
       "214   0.875889          0.000756  0.168400  -4.581333     0.085378   \n",
       "1906  0.750000          0.924000  0.055300 -10.339000     0.060200   \n",
       "3033  0.639000          0.000100  0.059000 -11.604000     0.041600   \n",
       "660   0.639000          0.000100  0.059000 -11.604000     0.041600   \n",
       "...        ...               ...       ...        ...          ...   \n",
       "2256  0.328649          0.169507  0.168955 -13.102229     0.047088   \n",
       "617   0.262822          0.368123  0.228924 -13.854022     0.036404   \n",
       "638   0.380000          0.000072  0.097800 -10.589000     0.032850   \n",
       "1807  0.380000          0.000072  0.097800 -10.589000     0.032850   \n",
       "76    0.285986          0.744651  0.175052 -15.917786     0.033362   \n",
       "\n",
       "           tempo   valence  popularity  key  mode  \n",
       "1281  107.075000  0.932000    1.000000    5     0  \n",
       "214   123.273333  0.843333   49.666667   11     0  \n",
       "1906  127.995000  0.813000    0.000000    6     1  \n",
       "3033  103.956000  0.692000   49.000000    0     1  \n",
       "660   103.956000  0.692000   49.000000    0     1  \n",
       "...          ...       ...         ...  ...   ...  \n",
       "2256  114.299797  0.243284   34.534913    7     1  \n",
       "617    76.829444  0.395578    5.844444    8     1  \n",
       "638    96.304500  0.206900    0.000000    3     1  \n",
       "1807   96.304500  0.206900    0.000000    3     1  \n",
       "76     99.395643  0.173474   46.833333    4     1  \n",
       "\n",
       "[319 rows x 14 columns]"
      ]
     },
     "execution_count": 26,
     "metadata": {},
     "output_type": "execute_result"
    }
   ],
   "source": [
    "#I want to add in some notes on pop music here\n",
    "pop = data_by_genres[data_by_genres.genres.str.contains('pop')]\n",
    "\n",
    "pop = pop.sort_values(by= 'danceability', ascending = False)\n",
    "\n",
    "x = pop['genres']\n",
    "y = pop['danceability']\n",
    "\n",
    "plt.bar(x,y)\n",
    "\n",
    "plt.xticks(rotation = 45)\n",
    "\n",
    "plt.show()\n",
    "\n",
    "pop\n",
    "                                                        "
   ]
  }
 ],
 "metadata": {
  "kernelspec": {
   "display_name": "Python 3",
   "language": "python",
   "name": "python3"
  },
  "language_info": {
   "codemirror_mode": {
    "name": "ipython",
    "version": 3
   },
   "file_extension": ".py",
   "mimetype": "text/x-python",
   "name": "python",
   "nbconvert_exporter": "python",
   "pygments_lexer": "ipython3",
   "version": "3.8.5"
  }
 },
 "nbformat": 4,
 "nbformat_minor": 4
}
